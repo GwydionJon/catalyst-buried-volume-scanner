{
 "cells": [
  {
   "cell_type": "code",
   "execution_count": null,
   "id": "56f0b4c2",
   "metadata": {},
   "outputs": [],
   "source": [
    "import dash\n",
    "import dash_bio as dashbio\n",
    "from dash import html\n",
    "from dash_bio.utils import PdbParser, create_mol3d_style\n",
    "from dash.dependencies import Input, Output\n",
    "\n",
    "app = dash.Dash(__name__)\n",
    "\n",
    "parser = PdbParser(\"https://git.io/4K8X.pdb\")\n",
    "\n",
    "data = parser.mol3d_data()\n",
    "styles = create_mol3d_style(\n",
    "    data[\"atoms\"], visualization_type=\"cartoon\", color_element=\"residue\"\n",
    ")"
   ]
  },
  {
   "cell_type": "code",
   "execution_count": null,
   "id": "82bbe8de",
   "metadata": {},
   "outputs": [],
   "source": [
    "data"
   ]
  },
  {
   "cell_type": "code",
   "execution_count": null,
   "id": "e61e8ec5",
   "metadata": {},
   "outputs": [],
   "source": [
    "app.layout = html.Div(\n",
    "    [\n",
    "        dashbio.Molecule3dViewer(\n",
    "            id=\"dashbio-default-molecule3d\", modelData=data, styles=styles\n",
    "        ),\n",
    "        \"Selection data\",\n",
    "        html.Hr(),\n",
    "        html.Div(id=\"default-molecule3d-output\"),\n",
    "    ]\n",
    ")"
   ]
  },
  {
   "cell_type": "code",
   "execution_count": null,
   "id": "e4642825",
   "metadata": {},
   "outputs": [],
   "source": [
    "%tb\n",
    "app.run_server(debug=True)"
   ]
  },
  {
   "cell_type": "code",
   "execution_count": null,
   "id": "60970881",
   "metadata": {},
   "outputs": [],
   "source": []
  }
 ],
 "metadata": {
  "kernelspec": {
   "display_name": "Python 3.9.0 ('molecule_scanner')",
   "language": "python",
   "name": "python3"
  },
  "language_info": {
   "codemirror_mode": {
    "name": "ipython",
    "version": 3
   },
   "file_extension": ".py",
   "mimetype": "text/x-python",
   "name": "python",
   "nbconvert_exporter": "python",
   "pygments_lexer": "ipython3",
   "version": "3.9.0"
  },
  "vscode": {
   "interpreter": {
    "hash": "3956ff2e780d7b2272b1fdc8a38f6cbf2ad9aaa944618cabfc4cfd10afc178ec"
   }
  }
 },
 "nbformat": 4,
 "nbformat_minor": 5
}
