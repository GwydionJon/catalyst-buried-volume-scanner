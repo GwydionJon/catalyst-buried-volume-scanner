{
 "cells": [
  {
   "cell_type": "code",
   "execution_count": null,
   "id": "56f0b4c2",
   "metadata": {},
   "outputs": [],
   "source": [
    "import dash\n",
    "import dash_bio as dashbio\n",
    "from dash import html\n",
    "from dash_bio.utils import PdbParser, create_mol3d_style\n",
    "from dash.dependencies import Input, Output\n",
    "from jupyter_dash import JupyterDash\n",
    "\n",
    "app = dash.Dash(__name__)\n",
    "\n",
    "parser = PdbParser(\"https://git.io/4K8X.pdb\")\n",
    "\n",
    "data = parser.mol3d_data()\n",
    "styles = create_mol3d_style(\n",
    "    data[\"atoms\"], visualization_type=\"cartoon\", color_element=\"residue\"\n",
    ")"
   ]
  },
  {
   "cell_type": "code",
   "execution_count": null,
   "id": "82bbe8de",
   "metadata": {},
   "outputs": [],
   "source": []
  },
  {
   "cell_type": "code",
   "execution_count": null,
   "id": "e61e8ec5",
   "metadata": {},
   "outputs": [],
   "source": [
    "# app.layout = html.Div(\n",
    "#     [\n",
    "#         dashbio.Molecule3dViewer(\n",
    "#             id=\"dashbio-default-molecule3d\", modelData=data, styles=styles\n",
    "#         ),\n",
    "#         \"Selection data\",\n",
    "#         html.Hr(),\n",
    "#         html.Div(id=\"default-molecule3d-output\"),\n",
    "#     ]\n",
    "# )"
   ]
  },
  {
   "cell_type": "code",
   "execution_count": null,
   "id": "e4642825",
   "metadata": {},
   "outputs": [],
   "source": [
    "# %tb app.run_server(debug=True,port=8082)"
   ]
  },
  {
   "cell_type": "code",
   "execution_count": null,
   "id": "60970881",
   "metadata": {},
   "outputs": [],
   "source": [
    "import chemcoord as cc\n",
    "import pandas as pd"
   ]
  },
  {
   "cell_type": "code",
   "execution_count": null,
   "id": "e86cd232",
   "metadata": {},
   "outputs": [],
   "source": [
    "test = cc.Cartesian.read_xyz(\"../test/data/mad25_p.xyz\", start_index=0)\n",
    "df_atoms = pd.DataFrame()\n",
    "for column in test.columns:\n",
    "    df_atoms[column] = test[column]\n",
    "df_atoms = df_atoms.reset_index()"
   ]
  },
  {
   "cell_type": "code",
   "execution_count": null,
   "id": "b9c493ab",
   "metadata": {},
   "outputs": [],
   "source": [
    "df_bonds = pd.DataFrame()\n",
    "z_test = test.get_zmat()[1:]\n",
    "z_test[\"b\"] = z_test[\"b\"].astype(int)\n",
    "df_bonds = z_test[[\"b\", \"bond\"]].loc[z_test[\"bond\"] < 3].reset_index()"
   ]
  },
  {
   "cell_type": "code",
   "execution_count": null,
   "id": "01d54414",
   "metadata": {},
   "outputs": [],
   "source": [
    "data = {\"atoms\": [], \"bonds\": []}\n",
    "for atom in df_atoms.values:\n",
    "    new_atom = {\n",
    "        \"serial\": atom[0],\n",
    "        \"name\": atom[1],\n",
    "        \"elem\": atom[1],\n",
    "        \"positions\": [atom[2], atom[3], atom[4]],\n",
    "    }\n",
    "    data[\"atoms\"].append(new_atom)\n",
    "\n",
    "for bond in df_bonds.values:\n",
    "    new_bond = {\"atom1_index\": bond[0], \"atom2_index\": bond[1], \"bond_order\": 1}\n",
    "    data[\"bonds\"].append(new_bond)"
   ]
  },
  {
   "cell_type": "code",
   "execution_count": null,
   "id": "87d59864",
   "metadata": {},
   "outputs": [],
   "source": [
    "data"
   ]
  },
  {
   "cell_type": "code",
   "execution_count": null,
   "id": "c483c14d",
   "metadata": {},
   "outputs": [],
   "source": [
    "styles = create_mol3d_style(\n",
    "    data[\"atoms\"], visualization_type=\"stick\", color_element=\"atom\"\n",
    ")"
   ]
  },
  {
   "cell_type": "code",
   "execution_count": null,
   "id": "054793df",
   "metadata": {},
   "outputs": [],
   "source": [
    "external_stylesheets = [\"https://codepen.io/chriddyp/pen/bWLwgP.css\"]\n",
    "\n",
    "app = JupyterDash(__name__, external_stylesheets=external_stylesheets)\n",
    "app.layout = html.Div(\n",
    "    [\n",
    "        dashbio.Molecule3dViewer(\n",
    "            id=\"dashbio-default-molecule3d\", modelData=data, styles=styles\n",
    "        ),\n",
    "        \"Selection data\",\n",
    "        html.Hr(),\n",
    "        html.Div(id=\"default-molecule3d-output\"),\n",
    "    ]\n",
    ")\n",
    "%tb\n",
    "\n",
    "app.run_server(debug=True)"
   ]
  },
  {
   "cell_type": "code",
   "execution_count": null,
   "id": "9f183b83",
   "metadata": {},
   "outputs": [],
   "source": []
  },
  {
   "cell_type": "code",
   "execution_count": null,
   "id": "a7d390f0",
   "metadata": {},
   "outputs": [],
   "source": []
  }
 ],
 "metadata": {
  "kernelspec": {
   "display_name": "Python 3.9.0 ('molecule_scanner')",
   "language": "python",
   "name": "python3"
  },
  "language_info": {
   "codemirror_mode": {
    "name": "ipython",
    "version": 3
   },
   "file_extension": ".py",
   "mimetype": "text/x-python",
   "name": "python",
   "nbconvert_exporter": "python",
   "pygments_lexer": "ipython3",
   "version": "3.9.0"
  },
  "vscode": {
   "interpreter": {
    "hash": "3956ff2e780d7b2272b1fdc8a38f6cbf2ad9aaa944618cabfc4cfd10afc178ec"
   }
  }
 },
 "nbformat": 4,
 "nbformat_minor": 5
}
